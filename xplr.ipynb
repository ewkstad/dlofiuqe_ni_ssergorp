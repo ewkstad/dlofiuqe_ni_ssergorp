{
 "cells": [
  {
   "cell_type": "code",
   "execution_count": 1,
   "id": "d08b2e00-14ef-4000-98c0-54d9a537edd6",
   "metadata": {},
   "outputs": [],
   "source": [
    "import random\n",
    "from cg_objs.cgs import *\n",
    "from architecture.typical_embedding import *\n",
    "from utils.file_and_folder_ops import remove_path_after_folder\n",
    "from geom.transformations import sample_r3, sample_so3, zyz_euler_angles_from_rotation_matrix"
   ]
  },
  {
   "cell_type": "code",
   "execution_count": 2,
   "id": "361770ea-45cf-4f71-8af5-800617d852a2",
   "metadata": {},
   "outputs": [],
   "source": [
    "n_c = 64\n",
    "l_max = 1\n",
    "n_t = len(CG_ids)\n",
    "device = torch.device('cuda:0') if torch.cuda.is_available() else torch.device('cpu')\n",
    "layer = EmbeddingLayer(n_c=n_c, l_max=1, n_t=n_t, device=device)"
   ]
  },
  {
   "cell_type": "code",
   "execution_count": 3,
   "id": "889fffe8-63fa-4e28-9d16-fbc18a924b5b",
   "metadata": {},
   "outputs": [
    {
     "name": "stdout",
     "output_type": "stream",
     "text": [
      "F (4, 11, 18)\n",
      "torch.Size([3, 256])\n"
     ]
    }
   ],
   "source": [
    "eg_aa = random.choice(list(CGs.keys()))\n",
    "print(eg_aa, CGs[eg_aa])\n",
    "ej_ai = layer(CGs[eg_aa])\n",
    "sl = ej_ai.shape[0]\n",
    "print(ej_ai.size())"
   ]
  },
  {
   "cell_type": "code",
   "execution_count": 4,
   "id": "199b6327-3b9f-4b04-bdc9-0043b11c7021",
   "metadata": {},
   "outputs": [],
   "source": [
    "tsj_ai = sample_r3(sl, device)\n",
    "Rsj_ai = sample_so3(sl, device)"
   ]
  },
  {
   "cell_type": "code",
   "execution_count": 5,
   "id": "18b21a5b-9772-40c5-9e05-538e4eb1e33f",
   "metadata": {},
   "outputs": [
    {
     "data": {
      "text/plain": [
       "(tensor([[-1.5883,  0.8510, -0.7424],\n",
       "         [ 0.2390,  1.8061, -0.8610],\n",
       "         [-0.8601,  0.3638,  1.4979]]),\n",
       " tensor([[[ 0.4316,  0.3200, -0.8434],\n",
       "          [ 0.6244,  0.5689,  0.5353],\n",
       "          [ 0.6511, -0.7576,  0.0457]],\n",
       " \n",
       "         [[-0.9537,  0.2811,  0.1070],\n",
       "          [-0.1969, -0.3146, -0.9286],\n",
       "          [-0.2274, -0.9067,  0.3553]],\n",
       " \n",
       "         [[-0.1867,  0.8704, -0.4555],\n",
       "          [-0.3583, -0.4920, -0.7934],\n",
       "          [-0.9147,  0.0150,  0.4038]]]))"
      ]
     },
     "execution_count": 5,
     "metadata": {},
     "output_type": "execute_result"
    }
   ],
   "source": [
    "tsj_ai, Rsj_ai"
   ]
  },
  {
   "cell_type": "code",
   "execution_count": 6,
   "id": "9cbe8fbd-3e52-4f69-aa22-928da583f7ef",
   "metadata": {},
   "outputs": [],
   "source": [
    "import os\n",
    "cwd = os.getcwd()\n",
    "base = remove_path_after_folder(cwd, 'equifold')\n",
    "DATA_PATH = path = os.path.join(base, 'data')\n",
    "\n",
    "try:\n",
    "    path = os.path.join(DATA_PATH, 'J_dense.pt')\n",
    "    Jd = torch.load(str(path))\n",
    "except:\n",
    "    path = os.path.join(DATA_PATH, 'J_dense.npy')\n",
    "    Jd_np = np.load(str(path), allow_pickle = True)\n",
    "    Jd = list(map(torch.from_numpy, Jd_np))"
   ]
  },
  {
   "cell_type": "code",
   "execution_count": 7,
   "id": "c3fa54b0-a193-4e84-8b26-6a93fb46a2da",
   "metadata": {},
   "outputs": [],
   "source": [
    "alpha_beta_gamma = zyz_euler_angles_from_rotation_matrix(Rsj_ai, device)"
   ]
  },
  {
   "cell_type": "code",
   "execution_count": 36,
   "id": "58330a8b-e960-49f5-bf8d-1f35a3c1305d",
   "metadata": {},
   "outputs": [],
   "source": [
    "from functools import wraps\n",
    "\n",
    "def cast_torch_tensor(fn):\n",
    "    @wraps(fn)\n",
    "    def inner(t):\n",
    "        if not torch.is_tensor(t):\n",
    "            t = torch.tensor(t, dtype = torch.get_default_dtype())\n",
    "        return fn(t)\n",
    "    return \n",
    "\n",
    "def default(val, d):\n",
    "    return val if exists(val) else d\n",
    "\n",
    "def exists(val):\n",
    "    return val is not None\n",
    "\n",
    "def to_order(degree):\n",
    "    return 2 * degree + 1\n",
    "\n",
    "def wigner_d_matrix(degree, alpha, beta, gamma, dtype = None, device = None):\n",
    "    \"\"\"Create wigner D matrices for batch of ZYZ Euler angles for degree l.\"\"\"\n",
    "    J = Jd[degree].type(dtype).to(device)\n",
    "    order = to_order(degree)\n",
    "    x_a = z_rot_mat(alpha, degree)\n",
    "    x_b = z_rot_mat(beta, degree)\n",
    "    x_c = z_rot_mat(gamma, degree)\n",
    "    res = x_a @ J @ x_b @ J @ x_c\n",
    "    return res.view(order, order)\n",
    "\n",
    "def z_rot_mat(angle, l):\n",
    "    device, dtype = angle.device, angle.dtype\n",
    "    order = to_order(l)\n",
    "    m = angle.new_zeros((order, order))\n",
    "    inds = torch.arange(0, order, 1, dtype=torch.long, device=device)\n",
    "    reversed_inds = torch.arange(2 * l, -1, -1, dtype=torch.long, device=device)\n",
    "    frequencies = torch.arange(l, -l - 1, -1, dtype=dtype, device=device)[None]\n",
    "\n",
    "    m[inds, reversed_inds] = torch.sin(frequencies * angle[None])\n",
    "    m[inds, inds] = torch.cos(frequencies * angle[None])\n",
    "    return m\n"
   ]
  },
  {
   "cell_type": "code",
   "execution_count": 39,
   "id": "d20a15fa-0882-494b-aab4-3e5f6d747453",
   "metadata": {},
   "outputs": [
    {
     "data": {
      "text/plain": [
       "tensor([[ 0.5689,  0.5353,  0.6244],\n",
       "        [-0.7576,  0.0457,  0.6511],\n",
       "        [ 0.3200, -0.8434,  0.4316]])"
      ]
     },
     "execution_count": 39,
     "metadata": {},
     "output_type": "execute_result"
    }
   ],
   "source": [
    "wigner_d_matrix(1, alpha[0], beta[0], gamma[0], dtype = torch.float32, device = device)"
   ]
  },
  {
   "cell_type": "code",
   "execution_count": 38,
   "id": "a31a1a5c-ce96-4e21-9d9a-a1f7235219cd",
   "metadata": {},
   "outputs": [
    {
     "data": {
      "text/plain": [
       "tensor([[-0.3146, -0.9286, -0.1969],\n",
       "        [-0.9067,  0.3553, -0.2274],\n",
       "        [ 0.2811,  0.1070, -0.9537]])"
      ]
     },
     "execution_count": 38,
     "metadata": {},
     "output_type": "execute_result"
    }
   ],
   "source": [
    "wigner_d_matrix(1, alpha[1], beta[1], gamma[1], dtype = torch.float32, device = device)"
   ]
  },
  {
   "cell_type": "code",
   "execution_count": 40,
   "id": "ea947654-3212-4746-a687-0ab9762ccae7",
   "metadata": {},
   "outputs": [],
   "source": [
    "def direct_sum(*matrices):\n",
    "    r\"\"\"Direct sum of matrices, put them in the diagonal\"\"\"\n",
    "    front_indices = matrices[0].shape[:-2]\n",
    "    m = sum(x.size(-2) for x in matrices)\n",
    "    n = sum(x.size(-1) for x in matrices)\n",
    "    total_shape = list(front_indices) + [m, n]\n",
    "    out = matrices[0].new_zeros(total_shape)\n",
    "    i, j = 0, 0\n",
    "    for x in matrices:\n",
    "        m, n = x.shape[-2:]\n",
    "        out[..., i : i + m, j : j + n] = x\n",
    "        i += m\n",
    "        j += n\n",
    "    return out"
   ]
  },
  {
   "cell_type": "code",
   "execution_count": 109,
   "id": "1f54da6d-5cbb-461e-99a0-c87c5df63923",
   "metadata": {},
   "outputs": [
    {
     "data": {
      "text/plain": [
       "[tensor([[ 0.5689,  0.5353,  0.6244],\n",
       "         [-0.7576,  0.0457,  0.6511],\n",
       "         [ 0.3200, -0.8434,  0.4316]]),\n",
       " tensor([[1]])]"
      ]
     },
     "execution_count": 109,
     "metadata": {},
     "output_type": "execute_result"
    }
   ],
   "source": [
    "matrices = [\n",
    "    wigner_d_matrix(1, alpha[0], beta[0], gamma[0], dtype = torch.float32, device = device),\n",
    "    torch.tensor([[1]])]\n",
    "matrices"
   ]
  },
  {
   "cell_type": "code",
   "execution_count": 110,
   "id": "8b512991-1dc7-46f3-aaab-e7ef5d2863c5",
   "metadata": {},
   "outputs": [
    {
     "data": {
      "text/plain": [
       "4"
      ]
     },
     "execution_count": 110,
     "metadata": {},
     "output_type": "execute_result"
    }
   ],
   "source": [
    "m = sum(x.size(-2) for x in matrices)\n",
    "m"
   ]
  },
  {
   "cell_type": "code",
   "execution_count": 111,
   "id": "fc57d46d-57a2-44b2-82c0-b402c78045a1",
   "metadata": {},
   "outputs": [
    {
     "data": {
      "text/plain": [
       "4"
      ]
     },
     "execution_count": 111,
     "metadata": {},
     "output_type": "execute_result"
    }
   ],
   "source": [
    "n = sum(x.size(-1) for x in matrices)\n",
    "n"
   ]
  },
  {
   "cell_type": "code",
   "execution_count": 112,
   "id": "89b5e7ef-0f9f-4786-87b6-8d917dd4b90c",
   "metadata": {},
   "outputs": [
    {
     "data": {
      "text/plain": [
       "[4, 4]"
      ]
     },
     "execution_count": 112,
     "metadata": {},
     "output_type": "execute_result"
    }
   ],
   "source": [
    "total_shape = list(front_indices) + [m, n]\n",
    "total_shape"
   ]
  },
  {
   "cell_type": "code",
   "execution_count": 113,
   "id": "edb1d519-0a4f-4c39-be15-453032c1108a",
   "metadata": {},
   "outputs": [],
   "source": [
    "r\"\"\"Direct sum of matrices, put them in the diagonal\"\"\"\n",
    "front_indices = matrices[0].shape[:-2]\n",
    "m = sum(x.size(-2) for x in matrices)\n",
    "n = sum(x.size(-1) for x in matrices)\n",
    "total_shape = list(front_indices) + [m, n]\n",
    "out = matrices[0].new_zeros(total_shape)\n",
    "i, j = 0, 0\n",
    "for x in matrices:\n",
    "    m, n = x.shape[-2:]\n",
    "    out[..., i : i + m, j : j + n] = x\n",
    "    i += m\n",
    "    j += n"
   ]
  },
  {
   "cell_type": "code",
   "execution_count": 127,
   "id": "0f620c35-1084-4d15-bb8d-569308dbf9f4",
   "metadata": {},
   "outputs": [
    {
     "data": {
      "text/plain": [
       "torch.Size([4, 64])"
      ]
     },
     "execution_count": 127,
     "metadata": {},
     "output_type": "execute_result"
    }
   ],
   "source": [
    "(out @ ej_ai[0].reshape(n_c, (l_max + 1) ** 2).T).shape"
   ]
  },
  {
   "cell_type": "code",
   "execution_count": null,
   "id": "3d94176c-ba47-4918-a834-50974e9d0313",
   "metadata": {},
   "outputs": [],
   "source": []
  }
 ],
 "metadata": {
  "kernelspec": {
   "display_name": "Python 3 (ipykernel)",
   "language": "python",
   "name": "python3"
  },
  "language_info": {
   "codemirror_mode": {
    "name": "ipython",
    "version": 3
   },
   "file_extension": ".py",
   "mimetype": "text/x-python",
   "name": "python",
   "nbconvert_exporter": "python",
   "pygments_lexer": "ipython3",
   "version": "3.11.0"
  }
 },
 "nbformat": 4,
 "nbformat_minor": 5
}
